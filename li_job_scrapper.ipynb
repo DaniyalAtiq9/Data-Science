{
 "cells": [
  {
   "cell_type": "markdown",
   "id": "072f85a4-2e82-4122-9e79-e3d37d44c06d",
   "metadata": {},
   "source": [
    "## Importing Libraries"
   ]
  },
  {
   "cell_type": "code",
   "execution_count": 142,
   "id": "1b355c56-a073-4551-b2fe-77d9d2a901be",
   "metadata": {},
   "outputs": [],
   "source": [
    "from selenium import webdriver\n",
    "from selenium.webdriver.common.by import By\n",
    "from selenium.webdriver.chrome.service import Service\n",
    "from selenium.webdriver.chrome.options import Options\n",
    "from selenium.webdriver.support.ui import WebDriverWait\n",
    "from selenium.webdriver.support import expected_conditions as EC\n",
    "import pandas as pd\n",
    "import time"
   ]
  },
  {
   "cell_type": "markdown",
   "id": "62573130-97b6-48c7-8930-c51cdad76594",
   "metadata": {},
   "source": [
    "## Setting Up Driver"
   ]
  },
  {
   "cell_type": "code",
   "execution_count": 146,
   "id": "7292d7b6-105f-4af8-8170-760184692f42",
   "metadata": {},
   "outputs": [],
   "source": [
    "driver = webdriver.Chrome()"
   ]
  },
  {
   "cell_type": "code",
   "execution_count": 147,
   "id": "2a2da159-97da-4a46-a00a-a5e00f23aee9",
   "metadata": {},
   "outputs": [],
   "source": [
    "driver.get(\"https://www.linkedin.com/jobs/search/?currentJobId=4022699911&distance=25.0&geoId=101022442&keywords=jobs&origin=HISTORY\")"
   ]
  },
  {
   "cell_type": "code",
   "execution_count": 148,
   "id": "e5cfd3f1-239c-4212-acad-c184faec5a3b",
   "metadata": {},
   "outputs": [],
   "source": [
    "driver.maximize_window()"
   ]
  },
  {
   "cell_type": "markdown",
   "id": "a60571a7-d73b-44b2-9a61-d206c40aa2c6",
   "metadata": {},
   "source": [
    "Now, checking if a popup appears. If the popup does not appear, you need not run this code"
   ]
  },
  {
   "cell_type": "code",
   "execution_count": 149,
   "id": "167c8a2a-d13a-4fa2-9bf8-24a6bdc58ace",
   "metadata": {},
   "outputs": [
    {
     "name": "stdout",
     "output_type": "stream",
     "text": [
      "Popup closed successfully.\n"
     ]
    }
   ],
   "source": [
    "try:\n",
    "    wait = WebDriverWait(driver, 10)  # Adjust the timeout if necessary\n",
    "    close_button = wait.until(EC.element_to_be_clickable((By.XPATH, '//*[@id=\"base-contextual-sign-in-modal\"]/div/section/button')))\n",
    "    close_button.click()\n",
    "    print(\"Popup closed successfully.\")\n",
    "except Exception as e:\n",
    "    print(f\"An error occurred: {e}\")"
   ]
  },
  {
   "cell_type": "markdown",
   "id": "7b6c8af3-dc54-4729-9e49-e29d94a4eb87",
   "metadata": {},
   "source": [
    "## Scraping Code"
   ]
  },
  {
   "cell_type": "code",
   "execution_count": 150,
   "id": "1b65521d-0aec-4bcb-b486-c17075cbea17",
   "metadata": {},
   "outputs": [
    {
     "name": "stdout",
     "output_type": "stream",
     "text": [
      "Total jobs scraped: 60\n",
      "Total jobs scraped: 120\n",
      "Total jobs scraped: 180\n",
      "Total jobs scraped: 240\n",
      "Total jobs scraped: 300\n",
      "Total jobs scraped: 360\n",
      "Total jobs scraped: 420\n",
      "Total jobs scraped: 480\n",
      "Total jobs scraped: 540\n",
      "Total jobs scraped: 600\n",
      "Total jobs scraped: 660\n",
      "Total jobs scraped: 720\n",
      "Total jobs scraped: 780\n",
      "Total jobs scraped: 840\n",
      "Total jobs scraped: 900\n",
      "Total jobs scraped: 960\n",
      "Total jobs scraped: 1020\n",
      "Total jobs scraped: 1090\n",
      "Total jobs scraped: 1160\n",
      "Total jobs scraped: 1230\n",
      "Total jobs scraped: 1310\n",
      "Total jobs scraped: 1390\n",
      "Total jobs scraped: 1470\n",
      "Total jobs scraped: 1560\n",
      "Total jobs scraped: 1650\n",
      "Total jobs scraped: 1740\n",
      "Total jobs scraped: 1840\n",
      "Total jobs scraped: 1940\n",
      "Total jobs scraped: 2040\n",
      "Total jobs scraped: 2140\n",
      "Total jobs scraped: 2250\n",
      "Total jobs scraped: 2360\n",
      "Total jobs scraped: 2470\n",
      "Total jobs scraped: 2580\n",
      "Total jobs scraped: 2690\n",
      "Total jobs scraped: 2800\n",
      "Total jobs scraped: 2910\n",
      "Total jobs scraped: 3020\n",
      "Total jobs scraped: 3130\n",
      "Total jobs scraped: 3240\n",
      "Reached job limit of 3184. Exiting...\n"
     ]
    }
   ],
   "source": [
    "# Store job data in a list of dictionaries\n",
    "jobs_data = []\n",
    "\n",
    "# Function to scrape jobs from the current page\n",
    "def scrape_jobs():\n",
    "    ul_element = WebDriverWait(driver, 10).until(EC.presence_of_element_located((By.XPATH, '//*[@id=\"main-content\"]/section[2]/ul')))\n",
    "    job_listings = ul_element.find_elements(By.TAG_NAME, 'li')\n",
    "    \n",
    "    for job in job_listings:\n",
    "        job_data = {}\n",
    "\n",
    "        try:\n",
    "            job_data['Job Title'] = job.find_element(By.XPATH, './/h3').text \n",
    "        except:\n",
    "            job_data['Job Title'] = \"\"\n",
    "\n",
    "        try:\n",
    "            job_data['Company'] = job.find_element(By.XPATH, './/h4').text\n",
    "        except:\n",
    "            job_data['Company'] = \"\"\n",
    "\n",
    "        try:\n",
    "            job_data['Location'] = job.find_element(By.XPATH, './/span[contains(@class, \"location\")]').text\n",
    "        except:\n",
    "            job_data['Location'] = \"\"\n",
    "\n",
    "        try:\n",
    "            job_data['Job Status'] = job.find_element(By.XPATH, './/div/div[2]/div/div/span').text\n",
    "        except:\n",
    "            job_data['Job Status'] = \"\"\n",
    "\n",
    "        try:\n",
    "            job_data['Posting Date'] = job.find_element(By.XPATH, './/div/div[2]/div/time').get_attribute('datetime')\n",
    "        except:\n",
    "            job_data['Posting Date'] = \"\"\n",
    "\n",
    "        # Add the job data to the list\n",
    "        jobs_data.append(job_data)\n",
    "\n",
    "# Load all jobs by scrolling down\n",
    "try:\n",
    "    last_job_count = 0  # Initialize last job count\n",
    "    while True:\n",
    "        # Scrape jobs on the current page\n",
    "        scrape_jobs()\n",
    "\n",
    "        # Log total jobs\n",
    "        current_job_count = len(jobs_data)\n",
    "        print(f\"Total jobs scraped: {current_job_count}\")\n",
    "\n",
    "        # Check if total jobs reach the limit or if new jobs are being loaded\n",
    "        if current_job_count >= 3184:\n",
    "            print(\"Reached job limit of 3184. Exiting...\")\n",
    "            break  # Exit the loop if the job limit is reached\n",
    "\n",
    "        if current_job_count == last_job_count:\n",
    "            print(\"No new jobs found. Exiting...\")\n",
    "            break  # Exit the loop if no new jobs are found\n",
    "\n",
    "        last_job_count = current_job_count  # Update the last job count\n",
    "\n",
    "        # Scroll down by a small amount\n",
    "        driver.execute_script(\"window.scrollBy(0, 500);\")  # Scroll down 500 pixels\n",
    "        time.sleep(2)  # Wait for new jobs to load\n",
    "except Exception as e:\n",
    "    print(f\"An error occurred: {e}\")\n",
    "    \n",
    "df = pd.DataFrame(jobs_data)"
   ]
  },
  {
   "cell_type": "code",
   "execution_count": null,
   "id": "e648a491-0dfd-4d19-a000-02623ef007bb",
   "metadata": {},
   "outputs": [],
   "source": [
    "driver.quit()"
   ]
  },
  {
   "cell_type": "markdown",
   "id": "c5f53cd7-f33e-4845-aede-1a2f98cdfd70",
   "metadata": {},
   "source": [
    "## Storing into a csv file"
   ]
  },
  {
   "cell_type": "code",
   "execution_count": 153,
   "id": "acda71fa-b159-4491-a271-7ff3bb957aed",
   "metadata": {},
   "outputs": [
    {
     "name": "stdout",
     "output_type": "stream",
     "text": [
      "Job data saved to 'job_listings.csv'. Total jobs scraped: 3240\n"
     ]
    }
   ],
   "source": [
    "df.to_csv('job_listings.csv', index=False)"
   ]
  }
 ],
 "metadata": {
  "kernelspec": {
   "display_name": "Python 3 (ipykernel)",
   "language": "python",
   "name": "python3"
  },
  "language_info": {
   "codemirror_mode": {
    "name": "ipython",
    "version": 3
   },
   "file_extension": ".py",
   "mimetype": "text/x-python",
   "name": "python",
   "nbconvert_exporter": "python",
   "pygments_lexer": "ipython3",
   "version": "3.12.4"
  }
 },
 "nbformat": 4,
 "nbformat_minor": 5
}
