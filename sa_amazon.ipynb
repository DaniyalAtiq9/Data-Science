{
 "cells": [
  {
   "cell_type": "code",
   "execution_count": 1,
   "id": "e2c8fc56-e1ad-4d94-b995-826a81ed0a47",
   "metadata": {},
   "outputs": [],
   "source": [
    "import pandas as pd\n",
    "import matplotlib.pyplot as plt\n",
    "from textblob import TextBlob\n",
    "from nltk.sentiment.vader import SentimentIntensityAnalyzer\n",
    "import nltk"
   ]
  },
  {
   "cell_type": "code",
   "execution_count": 2,
   "id": "bae07b9d-18f0-4c4f-821f-3a63339c2285",
   "metadata": {},
   "outputs": [],
   "source": [
    "df = pd.read_csv(\"amazon_reviews.csv\")"
   ]
  },
  {
   "cell_type": "code",
   "execution_count": 3,
   "id": "2b49bc48-1822-4709-9659-74fb318d747e",
   "metadata": {},
   "outputs": [],
   "source": [
    "# Storing some reviews for comparison\n",
    "sample_reviews = df['Review'].sample(10)"
   ]
  },
  {
   "cell_type": "code",
   "execution_count": 4,
   "id": "923880a0-6790-4959-a741-3ff34bb738d0",
   "metadata": {},
   "outputs": [
    {
     "data": {
      "text/plain": [
       "(100, 3)"
      ]
     },
     "execution_count": 4,
     "metadata": {},
     "output_type": "execute_result"
    }
   ],
   "source": [
    "df.shape"
   ]
  },
  {
   "cell_type": "code",
   "execution_count": 5,
   "id": "7a7922be-15a8-482b-b233-7a0dc3d3b2ec",
   "metadata": {},
   "outputs": [
    {
     "name": "stdout",
     "output_type": "stream",
     "text": [
      "<class 'pandas.core.frame.DataFrame'>\n",
      "RangeIndex: 100 entries, 0 to 99\n",
      "Data columns (total 3 columns):\n",
      " #   Column        Non-Null Count  Dtype \n",
      "---  ------        --------------  ----- \n",
      " 0   Rating        100 non-null    object\n",
      " 1   Review Title  100 non-null    object\n",
      " 2   Review        100 non-null    object\n",
      "dtypes: object(3)\n",
      "memory usage: 2.5+ KB\n"
     ]
    }
   ],
   "source": [
    "df.info()"
   ]
  },
  {
   "cell_type": "code",
   "execution_count": 6,
   "id": "ad49c9a4-33ab-42ac-ba83-4e7995e9bdfe",
   "metadata": {},
   "outputs": [
    {
     "data": {
      "text/html": [
       "<div>\n",
       "<style scoped>\n",
       "    .dataframe tbody tr th:only-of-type {\n",
       "        vertical-align: middle;\n",
       "    }\n",
       "\n",
       "    .dataframe tbody tr th {\n",
       "        vertical-align: top;\n",
       "    }\n",
       "\n",
       "    .dataframe thead th {\n",
       "        text-align: right;\n",
       "    }\n",
       "</style>\n",
       "<table border=\"1\" class=\"dataframe\">\n",
       "  <thead>\n",
       "    <tr style=\"text-align: right;\">\n",
       "      <th></th>\n",
       "      <th>Rating</th>\n",
       "      <th>Review Title</th>\n",
       "      <th>Review</th>\n",
       "    </tr>\n",
       "  </thead>\n",
       "  <tbody>\n",
       "    <tr>\n",
       "      <th>count</th>\n",
       "      <td>100</td>\n",
       "      <td>100</td>\n",
       "      <td>100</td>\n",
       "    </tr>\n",
       "    <tr>\n",
       "      <th>unique</th>\n",
       "      <td>2</td>\n",
       "      <td>94</td>\n",
       "      <td>100</td>\n",
       "    </tr>\n",
       "    <tr>\n",
       "      <th>top</th>\n",
       "      <td>5 review-rating</td>\n",
       "      <td>Great</td>\n",
       "      <td>Looking for the perfect blend of comfort, styl...</td>\n",
       "    </tr>\n",
       "    <tr>\n",
       "      <th>freq</th>\n",
       "      <td>61</td>\n",
       "      <td>2</td>\n",
       "      <td>1</td>\n",
       "    </tr>\n",
       "  </tbody>\n",
       "</table>\n",
       "</div>"
      ],
      "text/plain": [
       "                 Rating Review Title  \\\n",
       "count               100          100   \n",
       "unique                2           94   \n",
       "top     5 review-rating        Great   \n",
       "freq                 61            2   \n",
       "\n",
       "                                                   Review  \n",
       "count                                                 100  \n",
       "unique                                                100  \n",
       "top     Looking for the perfect blend of comfort, styl...  \n",
       "freq                                                    1  "
      ]
     },
     "execution_count": 6,
     "metadata": {},
     "output_type": "execute_result"
    }
   ],
   "source": [
    "df.describe()"
   ]
  },
  {
   "cell_type": "code",
   "execution_count": 7,
   "id": "5c4b58e5-d101-4c1f-b6f1-aa4a5f602f53",
   "metadata": {},
   "outputs": [
    {
     "data": {
      "text/plain": [
       "Rating          0\n",
       "Review Title    0\n",
       "Review          0\n",
       "dtype: int64"
      ]
     },
     "execution_count": 7,
     "metadata": {},
     "output_type": "execute_result"
    }
   ],
   "source": [
    "df.isnull().sum()"
   ]
  },
  {
   "cell_type": "markdown",
   "id": "7ebebdb6-5d6d-46b7-8025-0f71b5d1a66c",
   "metadata": {},
   "source": [
    "## Using TextBlob"
   ]
  },
  {
   "cell_type": "markdown",
   "id": "bae1fe25-5b7b-4a91-90eb-39445fef346e",
   "metadata": {},
   "source": [
    "It works well for longer and complex sentences and uses a general approach considering\n",
    "grammatical structure."
   ]
  },
  {
   "cell_type": "code",
   "execution_count": 8,
   "id": "c037c9e6-260c-4f63-bf27-27567b76d12a",
   "metadata": {},
   "outputs": [],
   "source": [
    "def get_sentiment(review):\n",
    "    analysis = TextBlob(review)\n",
    "    return analysis.sentiment.polarity"
   ]
  },
  {
   "cell_type": "code",
   "execution_count": 9,
   "id": "e152ebf1-2eec-48c6-8c07-50670c3ada01",
   "metadata": {},
   "outputs": [],
   "source": [
    "df['TextBlob Score'] = df['Review'].apply(get_sentiment)"
   ]
  },
  {
   "cell_type": "code",
   "execution_count": 10,
   "id": "4871eeec-6894-4b57-a3c2-f981e3ec73bc",
   "metadata": {},
   "outputs": [],
   "source": [
    "df['TextBlob Sentiment'] = df['TextBlob Score'].apply(lambda score: 'Positive' if score > 0 else ('Negative' if score < 0 else 'Neutral'))"
   ]
  },
  {
   "cell_type": "code",
   "execution_count": 11,
   "id": "07fd3226-62f5-47f4-ba5f-194796a007de",
   "metadata": {},
   "outputs": [
    {
     "data": {
      "text/html": [
       "<div>\n",
       "<style scoped>\n",
       "    .dataframe tbody tr th:only-of-type {\n",
       "        vertical-align: middle;\n",
       "    }\n",
       "\n",
       "    .dataframe tbody tr th {\n",
       "        vertical-align: top;\n",
       "    }\n",
       "\n",
       "    .dataframe thead th {\n",
       "        text-align: right;\n",
       "    }\n",
       "</style>\n",
       "<table border=\"1\" class=\"dataframe\">\n",
       "  <thead>\n",
       "    <tr style=\"text-align: right;\">\n",
       "      <th></th>\n",
       "      <th>Rating</th>\n",
       "      <th>Review Title</th>\n",
       "      <th>Review</th>\n",
       "      <th>TextBlob Score</th>\n",
       "      <th>TextBlob Sentiment</th>\n",
       "    </tr>\n",
       "  </thead>\n",
       "  <tbody>\n",
       "    <tr>\n",
       "      <th>0</th>\n",
       "      <td>5 review-rating</td>\n",
       "      <td>Gildan Men's Crew T-Shirt Multipack: Your Go-T...</td>\n",
       "      <td>Looking for the perfect blend of comfort, styl...</td>\n",
       "      <td>0.210922</td>\n",
       "      <td>Positive</td>\n",
       "    </tr>\n",
       "    <tr>\n",
       "      <th>1</th>\n",
       "      <td>5 review-rating</td>\n",
       "      <td>The Perfect Everyday T-Shirt – Comfort, Qualit...</td>\n",
       "      <td>I’m always on the lookout for basic, comfortab...</td>\n",
       "      <td>0.236058</td>\n",
       "      <td>Positive</td>\n",
       "    </tr>\n",
       "    <tr>\n",
       "      <th>2</th>\n",
       "      <td>5 review-rating</td>\n",
       "      <td>Fast shipping and exactly what I ordered.</td>\n",
       "      <td>These are plain white shirts that fit perfect....</td>\n",
       "      <td>0.191617</td>\n",
       "      <td>Positive</td>\n",
       "    </tr>\n",
       "    <tr>\n",
       "      <th>3</th>\n",
       "      <td>4 review-rating</td>\n",
       "      <td>Good quality,extremely comfortable lightweight...</td>\n",
       "      <td>These are considered undershirts because they ...</td>\n",
       "      <td>0.161111</td>\n",
       "      <td>Positive</td>\n",
       "    </tr>\n",
       "    <tr>\n",
       "      <th>4</th>\n",
       "      <td>5 review-rating</td>\n",
       "      <td>Fits Great !!</td>\n",
       "      <td>This is a perfect T-shirt! It’s not too thin n...</td>\n",
       "      <td>0.037679</td>\n",
       "      <td>Positive</td>\n",
       "    </tr>\n",
       "    <tr>\n",
       "      <th>...</th>\n",
       "      <td>...</td>\n",
       "      <td>...</td>\n",
       "      <td>...</td>\n",
       "      <td>...</td>\n",
       "      <td>...</td>\n",
       "    </tr>\n",
       "    <tr>\n",
       "      <th>95</th>\n",
       "      <td>4 review-rating</td>\n",
       "      <td>Very cheap and decent, but not without flaws.</td>\n",
       "      <td>They feel good. Not top-of-the-line soft, but ...</td>\n",
       "      <td>0.295238</td>\n",
       "      <td>Positive</td>\n",
       "    </tr>\n",
       "    <tr>\n",
       "      <th>96</th>\n",
       "      <td>5 review-rating</td>\n",
       "      <td>perfect</td>\n",
       "      <td>Perfect fit, perfect colors, durable, simple, ...</td>\n",
       "      <td>0.350000</td>\n",
       "      <td>Positive</td>\n",
       "    </tr>\n",
       "    <tr>\n",
       "      <th>97</th>\n",
       "      <td>4 review-rating</td>\n",
       "      <td>Light duty</td>\n",
       "      <td>Ok. Very basic. Not heavy-duty.</td>\n",
       "      <td>0.000000</td>\n",
       "      <td>Neutral</td>\n",
       "    </tr>\n",
       "    <tr>\n",
       "      <th>98</th>\n",
       "      <td>4 review-rating</td>\n",
       "      <td>Great value</td>\n",
       "      <td>Good undershirts. Great quality for the price</td>\n",
       "      <td>0.750000</td>\n",
       "      <td>Positive</td>\n",
       "    </tr>\n",
       "    <tr>\n",
       "      <th>99</th>\n",
       "      <td>5 review-rating</td>\n",
       "      <td>Undershirt</td>\n",
       "      <td>Good undershirt. Gildan fits better than other...</td>\n",
       "      <td>0.435000</td>\n",
       "      <td>Positive</td>\n",
       "    </tr>\n",
       "  </tbody>\n",
       "</table>\n",
       "<p>100 rows × 5 columns</p>\n",
       "</div>"
      ],
      "text/plain": [
       "             Rating                                       Review Title  \\\n",
       "0   5 review-rating  Gildan Men's Crew T-Shirt Multipack: Your Go-T...   \n",
       "1   5 review-rating  The Perfect Everyday T-Shirt – Comfort, Qualit...   \n",
       "2   5 review-rating          Fast shipping and exactly what I ordered.   \n",
       "3   4 review-rating  Good quality,extremely comfortable lightweight...   \n",
       "4   5 review-rating                                      Fits Great !!   \n",
       "..              ...                                                ...   \n",
       "95  4 review-rating      Very cheap and decent, but not without flaws.   \n",
       "96  5 review-rating                                            perfect   \n",
       "97  4 review-rating                                         Light duty   \n",
       "98  4 review-rating                                        Great value   \n",
       "99  5 review-rating                                         Undershirt   \n",
       "\n",
       "                                               Review  TextBlob Score  \\\n",
       "0   Looking for the perfect blend of comfort, styl...        0.210922   \n",
       "1   I’m always on the lookout for basic, comfortab...        0.236058   \n",
       "2   These are plain white shirts that fit perfect....        0.191617   \n",
       "3   These are considered undershirts because they ...        0.161111   \n",
       "4   This is a perfect T-shirt! It’s not too thin n...        0.037679   \n",
       "..                                                ...             ...   \n",
       "95  They feel good. Not top-of-the-line soft, but ...        0.295238   \n",
       "96  Perfect fit, perfect colors, durable, simple, ...        0.350000   \n",
       "97                    Ok. Very basic. Not heavy-duty.        0.000000   \n",
       "98      Good undershirts. Great quality for the price        0.750000   \n",
       "99  Good undershirt. Gildan fits better than other...        0.435000   \n",
       "\n",
       "   TextBlob Sentiment  \n",
       "0            Positive  \n",
       "1            Positive  \n",
       "2            Positive  \n",
       "3            Positive  \n",
       "4            Positive  \n",
       "..                ...  \n",
       "95           Positive  \n",
       "96           Positive  \n",
       "97            Neutral  \n",
       "98           Positive  \n",
       "99           Positive  \n",
       "\n",
       "[100 rows x 5 columns]"
      ]
     },
     "execution_count": 11,
     "metadata": {},
     "output_type": "execute_result"
    }
   ],
   "source": [
    "df"
   ]
  },
  {
   "cell_type": "markdown",
   "id": "4ed90d5c-e55a-4304-bc46-7ef3898594e2",
   "metadata": {},
   "source": [
    "## Using Vader"
   ]
  },
  {
   "cell_type": "markdown",
   "id": "a7951925-ed75-4e6c-9af9-46cdfa5e797a",
   "metadata": {},
   "source": [
    "Vader is specifically designed for shorter texts, making it suitable for short reviews.\n",
    "It can handle emoticons, slangs and punctuations better."
   ]
  },
  {
   "cell_type": "code",
   "execution_count": 12,
   "id": "04ae9c74-6f89-4248-ad75-69d90a553e44",
   "metadata": {},
   "outputs": [],
   "source": [
    "sid = SentimentIntensityAnalyzer()"
   ]
  },
  {
   "cell_type": "code",
   "execution_count": 13,
   "id": "8ff36568-86c6-4085-959b-e1fbd6086187",
   "metadata": {},
   "outputs": [],
   "source": [
    "def get_vader_sentiment(review):\n",
    "    sentiment_scores = sid.polarity_scores(review)\n",
    "    return sentiment_scores['compound']"
   ]
  },
  {
   "cell_type": "code",
   "execution_count": 14,
   "id": "423967e8-39fa-4b21-a2db-13c32ef842b5",
   "metadata": {},
   "outputs": [],
   "source": [
    "df['VADER Score'] = df['Review'].apply(get_vader_sentiment)"
   ]
  },
  {
   "cell_type": "code",
   "execution_count": 15,
   "id": "b40bc6bf-3bd2-4b2b-9233-075c8f505c7f",
   "metadata": {},
   "outputs": [],
   "source": [
    "df['VADER Sentiment'] = df['VADER Score'].apply(lambda score: 'Positive' if score >= 0.05 else ('Negative' if score <= -0.05 else 'Neutral'))"
   ]
  },
  {
   "cell_type": "code",
   "execution_count": 16,
   "id": "17929800-ab37-4496-8697-9a75c66baac3",
   "metadata": {},
   "outputs": [
    {
     "data": {
      "text/html": [
       "<div>\n",
       "<style scoped>\n",
       "    .dataframe tbody tr th:only-of-type {\n",
       "        vertical-align: middle;\n",
       "    }\n",
       "\n",
       "    .dataframe tbody tr th {\n",
       "        vertical-align: top;\n",
       "    }\n",
       "\n",
       "    .dataframe thead th {\n",
       "        text-align: right;\n",
       "    }\n",
       "</style>\n",
       "<table border=\"1\" class=\"dataframe\">\n",
       "  <thead>\n",
       "    <tr style=\"text-align: right;\">\n",
       "      <th></th>\n",
       "      <th>Rating</th>\n",
       "      <th>Review Title</th>\n",
       "      <th>Review</th>\n",
       "      <th>TextBlob Score</th>\n",
       "      <th>TextBlob Sentiment</th>\n",
       "      <th>VADER Score</th>\n",
       "      <th>VADER Sentiment</th>\n",
       "    </tr>\n",
       "  </thead>\n",
       "  <tbody>\n",
       "    <tr>\n",
       "      <th>0</th>\n",
       "      <td>5 review-rating</td>\n",
       "      <td>Gildan Men's Crew T-Shirt Multipack: Your Go-T...</td>\n",
       "      <td>Looking for the perfect blend of comfort, styl...</td>\n",
       "      <td>0.210922</td>\n",
       "      <td>Positive</td>\n",
       "      <td>0.9947</td>\n",
       "      <td>Positive</td>\n",
       "    </tr>\n",
       "    <tr>\n",
       "      <th>1</th>\n",
       "      <td>5 review-rating</td>\n",
       "      <td>The Perfect Everyday T-Shirt – Comfort, Qualit...</td>\n",
       "      <td>I’m always on the lookout for basic, comfortab...</td>\n",
       "      <td>0.236058</td>\n",
       "      <td>Positive</td>\n",
       "      <td>0.9947</td>\n",
       "      <td>Positive</td>\n",
       "    </tr>\n",
       "    <tr>\n",
       "      <th>2</th>\n",
       "      <td>5 review-rating</td>\n",
       "      <td>Fast shipping and exactly what I ordered.</td>\n",
       "      <td>These are plain white shirts that fit perfect....</td>\n",
       "      <td>0.191617</td>\n",
       "      <td>Positive</td>\n",
       "      <td>0.9752</td>\n",
       "      <td>Positive</td>\n",
       "    </tr>\n",
       "    <tr>\n",
       "      <th>3</th>\n",
       "      <td>4 review-rating</td>\n",
       "      <td>Good quality,extremely comfortable lightweight...</td>\n",
       "      <td>These are considered undershirts because they ...</td>\n",
       "      <td>0.161111</td>\n",
       "      <td>Positive</td>\n",
       "      <td>0.9563</td>\n",
       "      <td>Positive</td>\n",
       "    </tr>\n",
       "    <tr>\n",
       "      <th>4</th>\n",
       "      <td>5 review-rating</td>\n",
       "      <td>Fits Great !!</td>\n",
       "      <td>This is a perfect T-shirt! It’s not too thin n...</td>\n",
       "      <td>0.037679</td>\n",
       "      <td>Positive</td>\n",
       "      <td>0.8491</td>\n",
       "      <td>Positive</td>\n",
       "    </tr>\n",
       "    <tr>\n",
       "      <th>...</th>\n",
       "      <td>...</td>\n",
       "      <td>...</td>\n",
       "      <td>...</td>\n",
       "      <td>...</td>\n",
       "      <td>...</td>\n",
       "      <td>...</td>\n",
       "      <td>...</td>\n",
       "    </tr>\n",
       "    <tr>\n",
       "      <th>95</th>\n",
       "      <td>4 review-rating</td>\n",
       "      <td>Very cheap and decent, but not without flaws.</td>\n",
       "      <td>They feel good. Not top-of-the-line soft, but ...</td>\n",
       "      <td>0.295238</td>\n",
       "      <td>Positive</td>\n",
       "      <td>0.3606</td>\n",
       "      <td>Positive</td>\n",
       "    </tr>\n",
       "    <tr>\n",
       "      <th>96</th>\n",
       "      <td>5 review-rating</td>\n",
       "      <td>perfect</td>\n",
       "      <td>Perfect fit, perfect colors, durable, simple, ...</td>\n",
       "      <td>0.350000</td>\n",
       "      <td>Positive</td>\n",
       "      <td>0.9432</td>\n",
       "      <td>Positive</td>\n",
       "    </tr>\n",
       "    <tr>\n",
       "      <th>97</th>\n",
       "      <td>4 review-rating</td>\n",
       "      <td>Light duty</td>\n",
       "      <td>Ok. Very basic. Not heavy-duty.</td>\n",
       "      <td>0.000000</td>\n",
       "      <td>Neutral</td>\n",
       "      <td>0.2960</td>\n",
       "      <td>Positive</td>\n",
       "    </tr>\n",
       "    <tr>\n",
       "      <th>98</th>\n",
       "      <td>4 review-rating</td>\n",
       "      <td>Great value</td>\n",
       "      <td>Good undershirts. Great quality for the price</td>\n",
       "      <td>0.750000</td>\n",
       "      <td>Positive</td>\n",
       "      <td>0.7906</td>\n",
       "      <td>Positive</td>\n",
       "    </tr>\n",
       "    <tr>\n",
       "      <th>99</th>\n",
       "      <td>5 review-rating</td>\n",
       "      <td>Undershirt</td>\n",
       "      <td>Good undershirt. Gildan fits better than other...</td>\n",
       "      <td>0.435000</td>\n",
       "      <td>Positive</td>\n",
       "      <td>0.9169</td>\n",
       "      <td>Positive</td>\n",
       "    </tr>\n",
       "  </tbody>\n",
       "</table>\n",
       "<p>100 rows × 7 columns</p>\n",
       "</div>"
      ],
      "text/plain": [
       "             Rating                                       Review Title  \\\n",
       "0   5 review-rating  Gildan Men's Crew T-Shirt Multipack: Your Go-T...   \n",
       "1   5 review-rating  The Perfect Everyday T-Shirt – Comfort, Qualit...   \n",
       "2   5 review-rating          Fast shipping and exactly what I ordered.   \n",
       "3   4 review-rating  Good quality,extremely comfortable lightweight...   \n",
       "4   5 review-rating                                      Fits Great !!   \n",
       "..              ...                                                ...   \n",
       "95  4 review-rating      Very cheap and decent, but not without flaws.   \n",
       "96  5 review-rating                                            perfect   \n",
       "97  4 review-rating                                         Light duty   \n",
       "98  4 review-rating                                        Great value   \n",
       "99  5 review-rating                                         Undershirt   \n",
       "\n",
       "                                               Review  TextBlob Score  \\\n",
       "0   Looking for the perfect blend of comfort, styl...        0.210922   \n",
       "1   I’m always on the lookout for basic, comfortab...        0.236058   \n",
       "2   These are plain white shirts that fit perfect....        0.191617   \n",
       "3   These are considered undershirts because they ...        0.161111   \n",
       "4   This is a perfect T-shirt! It’s not too thin n...        0.037679   \n",
       "..                                                ...             ...   \n",
       "95  They feel good. Not top-of-the-line soft, but ...        0.295238   \n",
       "96  Perfect fit, perfect colors, durable, simple, ...        0.350000   \n",
       "97                    Ok. Very basic. Not heavy-duty.        0.000000   \n",
       "98      Good undershirts. Great quality for the price        0.750000   \n",
       "99  Good undershirt. Gildan fits better than other...        0.435000   \n",
       "\n",
       "   TextBlob Sentiment  VADER Score VADER Sentiment  \n",
       "0            Positive       0.9947        Positive  \n",
       "1            Positive       0.9947        Positive  \n",
       "2            Positive       0.9752        Positive  \n",
       "3            Positive       0.9563        Positive  \n",
       "4            Positive       0.8491        Positive  \n",
       "..                ...          ...             ...  \n",
       "95           Positive       0.3606        Positive  \n",
       "96           Positive       0.9432        Positive  \n",
       "97            Neutral       0.2960        Positive  \n",
       "98           Positive       0.7906        Positive  \n",
       "99           Positive       0.9169        Positive  \n",
       "\n",
       "[100 rows x 7 columns]"
      ]
     },
     "execution_count": 16,
     "metadata": {},
     "output_type": "execute_result"
    }
   ],
   "source": [
    "df"
   ]
  },
  {
   "cell_type": "code",
   "execution_count": 17,
   "id": "6916b208-7cf7-42d8-a66d-b432c506735d",
   "metadata": {},
   "outputs": [],
   "source": [
    "df.to_csv('amazon_reviews_with_sentiments.csv', index=False)"
   ]
  },
  {
   "cell_type": "markdown",
   "id": "b8803e46-2ac2-4107-bb77-0e58d1703e9e",
   "metadata": {},
   "source": [
    "## Comparison"
   ]
  },
  {
   "cell_type": "code",
   "execution_count": 18,
   "id": "b246dfcd-97e6-48fd-acca-499ea2ca5f62",
   "metadata": {
    "collapsed": true,
    "jupyter": {
     "outputs_hidden": true
    }
   },
   "outputs": [
    {
     "name": "stdout",
     "output_type": "stream",
     "text": [
      "Review: I needed some crew t-shirts to go underneath some of my clothes. I am thankful that I found these crew t-shirts. The material is very well made; and they fit just right. I love the feel of them. Thank you!\n",
      "TextBlob: Positive (Score: 0.3776785714285714), VADER: Positive (Score: 0.9391)\n",
      "\n",
      "Review: I really like how the shirt isn't short like it's kind of long but not wide if that makes sense and it feels nice and there was a little room left so I wasn't feeling stuffed. I'm currently trying to lose weight but as of right now [I weigh 300 lb and I'm 5'9\" tall] and the shirts fit great! Also it was a great deal for 10 shirts!\n",
      "TextBlob: Positive (Score: 0.29986263736263735), VADER: Positive (Score: 0.959)\n",
      "\n",
      "Review: Got these for my son ' he's big & tall! Got. An xl , it fitted loose & a little long' which is what he likes\" the quality is perfect! Very breathable! I will buy again!!\n",
      "TextBlob: Positive (Score: 0.17936698717948718), VADER: Positive (Score: 0.7482)\n",
      "\n",
      "Review: How many times have you bought a pack of undershirts, only to be disappointed because the sleeves are too short, and bunch up in your armpits? THE SLEEVES ON THESE SHIRTS ACTUALLY COME DOWN ENOUGH TO BE PARALLEL WITH YOUR CHEST! AWESOME! The material is a light cotton, which doesn't get enough love lately, what with active wear that has wicking/drying 'technology'. This purchase was quite a find. Thank you.\n",
      "TextBlob: Positive (Score: 0.07579365079365079), VADER: Positive (Score: 0.6627)\n",
      "\n",
      "Review: They feel good. Not top-of-the-line soft, but not bad. Fit well. Look OK - from a distance.\n",
      "\n",
      "I noticed some oddities at the seams on the shoulders when I took them from the package. After a couple washes, there's already some fraying. Again, nothing drastic, but not a great sign.\n",
      "\n",
      "Just fine for around the house, working, etc.\n",
      "TextBlob: Positive (Score: 0.2952380952380952), VADER: Positive (Score: 0.3606)\n",
      "\n",
      "Review: My husband likes the colors, the comfort, and I like how they launder. The cost was a bonus.\n",
      "TextBlob: Neutral (Score: 0.0), VADER: Positive (Score: 0.8834)\n",
      "\n",
      "Review: I have a plumbing company and I purchased T-shirts to make work shirts for my staff. I had someone print our company logo on them and they worked great. Great quality, great field and very durable. I highly recommend anyone in the trades who’s looking to get their staff workshirts?\n",
      "TextBlob: Positive (Score: 0.5520000000000002), VADER: Positive (Score: 0.9465)\n",
      "\n",
      "Review: I’ve always bought these for my boys and girls and men in my life. I’ve also bought myself several for work. They hold up well when washed and last for a long time. I buy these for the boys who work in warehouses and out in the elements and the only thing they’ve said to me is when are you gonna buy me more lol Great for work and great for casual wear.\n",
      "TextBlob: Positive (Score: 0.26111111111111107), VADER: Positive (Score: 0.9379)\n",
      "\n",
      "Review: My husband loves that they are loose and comfortable as well as decent quality, light weight and versatile. Nice colors too\n",
      "TextBlob: Positive (Score: 0.29794871794871797), VADER: Positive (Score: 0.8625)\n",
      "\n",
      "Review: These feel great, are a very good price, and a far, no shrinkage, which makes them very true to size.\n",
      "TextBlob: Positive (Score: 0.56625), VADER: Positive (Score: 0.8476)\n",
      "\n"
     ]
    }
   ],
   "source": [
    "for review in sample_reviews:\n",
    "    tb_sentiment = TextBlob(review).sentiment.polarity\n",
    "    tb_label = 'Positive' if tb_sentiment > 0 else ('Negative' if tb_sentiment < 0 else 'Neutral')\n",
    "\n",
    "    vader_sentiment = sid.polarity_scores(review)['compound']\n",
    "    vader_label = 'Positive' if vader_sentiment >= 0.05 else ('Negative' if vader_sentiment <= -0.05 else 'Neutral')\n",
    "\n",
    "    print(f\"Review: {review}\")\n",
    "    print(f\"TextBlob: {tb_label} (Score: {tb_sentiment}), VADER: {vader_label} (Score: {vader_sentiment})\\n\")\n"
   ]
  },
  {
   "cell_type": "code",
   "execution_count": 19,
   "id": "9f75cc3c-eecc-4f00-b5e1-027d71951f4a",
   "metadata": {},
   "outputs": [],
   "source": [
    "textblob_counts = df['TextBlob Sentiment'].value_counts()\n",
    "vader_counts = df['VADER Sentiment'].value_counts()"
   ]
  },
  {
   "cell_type": "code",
   "execution_count": 21,
   "id": "407366d5-abe8-4c99-9787-b70d289a6372",
   "metadata": {},
   "outputs": [
    {
     "data": {
      "text/plain": [
       "TextBlob Sentiment\n",
       "Positive    89\n",
       "Neutral      8\n",
       "Negative     3\n",
       "Name: count, dtype: int64"
      ]
     },
     "execution_count": 21,
     "metadata": {},
     "output_type": "execute_result"
    }
   ],
   "source": [
    "textblob_counts"
   ]
  },
  {
   "cell_type": "code",
   "execution_count": 22,
   "id": "269bb3cc-bbf5-4234-9e97-9e7a86ea12c9",
   "metadata": {},
   "outputs": [
    {
     "data": {
      "text/plain": [
       "VADER Sentiment\n",
       "Positive    91\n",
       "Negative     5\n",
       "Neutral      4\n",
       "Name: count, dtype: int64"
      ]
     },
     "execution_count": 22,
     "metadata": {},
     "output_type": "execute_result"
    }
   ],
   "source": [
    "vader_counts "
   ]
  },
  {
   "cell_type": "code",
   "execution_count": 23,
   "id": "03c6e9f7-a793-47b7-9fb6-092d4f853c98",
   "metadata": {},
   "outputs": [
    {
     "data": {
      "image/png": "[encoded data removed]",
      "text/plain": [
       "<Figure size 1200x500 with 2 Axes>"
      ]
     },
     "metadata": {},
     "output_type": "display_data"
    }
   ],
   "source": [
    "fig, axes = plt.subplots(1, 2, figsize=(12, 5))\n",
    "\n",
    "textblob_counts.plot(kind='bar', ax=axes[0], color=['green', 'red', 'gray'])\n",
    "axes[0].set_title('TextBlob Sentiment Distribution')\n",
    "axes[0].set_xlabel('Sentiment')\n",
    "axes[0].set_ylabel('Number of Reviews')\n",
    "\n",
    "vader_counts.plot(kind='bar', ax=axes[1], color=['blue', 'orange', 'purple'])\n",
    "axes[1].set_title('VADER Sentiment Distribution')\n",
    "axes[1].set_xlabel('Sentiment')\n",
    "axes[1].set_ylabel('Number of Reviews')\n",
    "\n",
    "plt.subplots_adjust(wspace=0.4) \n",
    "plt.show()"
   ]
  },
  {
   "cell_type": "markdown",
   "id": "38aa8180-ccc5-4718-b9b0-612c45f6ced8",
   "metadata": {},
   "source": [
    "Although, the positive sentiments are almost the same, the results mildly vary in neutral and negative sentiments.\n",
    "Though in practise, the best approach may vary depending on your specific dataset and objectives."
   ]
  },
  {
   "cell_type": "code",
   "execution_count": null,
   "id": "248a5cdd-3897-44fe-a412-1e7af850e197",
   "metadata": {},
   "outputs": [],
   "source": []
  }
 ],
 "metadata": {
  "kernelspec": {
   "display_name": "Python 3 (ipykernel)",
   "language": "python",
   "name": "python3"
  },
  "language_info": {
   "codemirror_mode": {
    "name": "ipython",
    "version": 3
   },
   "file_extension": ".py",
   "mimetype": "text/x-python",
   "name": "python",
   "nbconvert_exporter": "python",
   "pygments_lexer": "ipython3",
   "version": "3.12.4"
  }
 },
 "nbformat": 4,
 "nbformat_minor": 5
}
